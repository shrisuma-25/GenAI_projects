{
 "cells": [
  {
   "cell_type": "code",
   "execution_count": 5,
   "id": "d49998c9",
   "metadata": {},
   "outputs": [],
   "source": [
    "from langgraph.graph import StateGraph, START, END"
   ]
  },
  {
   "cell_type": "code",
   "execution_count": 6,
   "id": "6e33d587",
   "metadata": {},
   "outputs": [
    {
     "name": "stdout",
     "output_type": "stream",
     "text": [
      " +-----------+   \n",
      " | __start__ |   \n",
      " +-----------+   \n",
      "        *        \n",
      "        *        \n",
      "        *        \n",
      "     +---+       \n",
      "     | A |       \n",
      "     +---+       \n",
      "     *    *      \n",
      "    *      *     \n",
      "   *        *    \n",
      "+---+     +---+  \n",
      "| B |     | C |  \n",
      "+---+     +---+  \n",
      "     *    *      \n",
      "      *  *       \n",
      "       **        \n",
      "  +---------+    \n",
      "  | __end__ |    \n",
      "  +---------+    \n",
      "A ran\n",
      "B ran\n",
      "C ran\n"
     ]
    }
   ],
   "source": [
    "from typing import TypedDict\n",
    "from langgraph.graph import StateGraph, START, END\n",
    "\n",
    "class MyState(TypedDict):\n",
    "   pass\n",
    "\n",
    "def node_a(_): print(\"A ran\"); return{}\n",
    "\n",
    "def node_b(_): print(\"B ran\"); return{}\n",
    "\n",
    "def node_c(_): print(\"C ran\"); return{}\n",
    "\n",
    "builder = StateGraph(MyState)\n",
    "builder.add_node(\"A\", node_a)\n",
    "builder.add_node(\"B\", node_b)\n",
    "builder.add_node(\"C\", node_c)\n",
    "\n",
    "builder.add_edge(START, \"A\")\n",
    "builder.add_edge(\"A\", \"B\")\n",
    "builder.add_edge(\"A\", \"C\")\n",
    "builder.add_edge(\"B\", END)\n",
    "builder.add_edge(\"C\", END)\n",
    "\n",
    "graph = builder.compile()\n",
    "print(graph.get_graph().draw_ascii())\n",
    "graph.invoke({})"
   ]
  },
  {
   "cell_type": "code",
   "execution_count": 7,
   "id": "9a2a4026",
   "metadata": {},
   "outputs": [
    {
     "name": "stdout",
     "output_type": "stream",
     "text": [
      "Graph saved as graph_parallel.png\n"
     ]
    }
   ],
   "source": [
    "graph.get_graph().draw_png(\"images/graph_parallel.jpg\")\n",
    "print(\"Graph saved as graph_parallel.png\")"
   ]
  },
  {
   "cell_type": "markdown",
   "id": "41f5adcb",
   "metadata": {},
   "source": []
  }
 ],
 "metadata": {
  "kernelspec": {
   "display_name": ".venv",
   "language": "python",
   "name": "python3"
  },
  "language_info": {
   "codemirror_mode": {
    "name": "ipython",
    "version": 3
   },
   "file_extension": ".py",
   "mimetype": "text/x-python",
   "name": "python",
   "nbconvert_exporter": "python",
   "pygments_lexer": "ipython3",
   "version": "3.13.5"
  }
 },
 "nbformat": 4,
 "nbformat_minor": 5
}
