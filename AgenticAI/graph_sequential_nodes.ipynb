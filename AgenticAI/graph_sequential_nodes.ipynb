{
 "cells": [
  {
   "cell_type": "markdown",
   "id": "381c70f7",
   "metadata": {},
   "source": [
    "### Build simple sequential graph using LangGraph"
   ]
  },
  {
   "cell_type": "code",
   "execution_count": 1,
   "id": "b4243714",
   "metadata": {},
   "outputs": [],
   "source": [
    "# python -m venv .venv\n",
    "# source .venv/bin/activate\n",
    "# pip install langgraph"
   ]
  },
  {
   "cell_type": "code",
   "execution_count": 3,
   "id": "847cdcf1",
   "metadata": {},
   "outputs": [],
   "source": [
    "from langgraph.graph import StateGraph, START, END"
   ]
  },
  {
   "cell_type": "code",
   "execution_count": null,
   "id": "e03ddf83",
   "metadata": {},
   "outputs": [
    {
     "name": "stdout",
     "output_type": "stream",
     "text": [
      "+-----------+  \n",
      "| __start__ |  \n",
      "+-----------+  \n",
      "      *        \n",
      "      *        \n",
      "      *        \n",
      "    +---+      \n",
      "    | A |      \n",
      "    +---+      \n",
      "      *        \n",
      "      *        \n",
      "      *        \n",
      "    +---+      \n",
      "    | B |      \n",
      "    +---+      \n",
      "      *        \n",
      "      *        \n",
      "      *        \n",
      " +---------+   \n",
      " | __end__ |   \n",
      " +---------+   \n",
      "A ran\n",
      "B ran\n"
     ]
    },
    {
     "data": {
      "text/plain": [
       "{}"
      ]
     },
     "execution_count": 9,
     "metadata": {},
     "output_type": "execute_result"
    }
   ],
   "source": [
    "def node_a_tool(_):\n",
    "    print(\"A ran\")\n",
    "    return{}\n",
    "\n",
    "def node_b_tool(_):\n",
    "    print(\"B ran\")\n",
    "    return{}\n",
    "\n",
    "builder = StateGraph(dict)\n",
    "builder.add_node(\"A\", node_a_tool)\n",
    "builder.add_node(\"B\", node_b_tool)\n",
    "\n",
    "builder.add_edge(START, \"A\")\n",
    "builder.add_edge(\"A\", \"B\")\n",
    "builder.add_edge(\"A\", END)\n",
    "\n",
    "graph = builder.compile()\n",
    "\n",
    "# --- Display as ASCII ----\n",
    "print(graph.get_graph().draw_ascii())\n",
    "\n",
    "initial_state = {}\n",
    "graph.invoke(initial_state)"
   ]
  },
  {
   "cell_type": "code",
   "execution_count": null,
   "id": "1ef6c4b0",
   "metadata": {},
   "outputs": [],
   "source": [
    "#graph.get_graph().draw_png(\"images/graph_sequential.jpg\")\n",
    "#print(\"Graph saved as graph.png\")"
   ]
  },
  {
   "cell_type": "code",
   "execution_count": null,
   "id": "cdcb62ba",
   "metadata": {},
   "outputs": [],
   "source": []
  }
 ],
 "metadata": {
  "kernelspec": {
   "display_name": ".venv",
   "language": "python",
   "name": "python3"
  },
  "language_info": {
   "codemirror_mode": {
    "name": "ipython",
    "version": 3
   },
   "file_extension": ".py",
   "mimetype": "text/x-python",
   "name": "python",
   "nbconvert_exporter": "python",
   "pygments_lexer": "ipython3",
   "version": "3.13.5"
  }
 },
 "nbformat": 4,
 "nbformat_minor": 5
}
