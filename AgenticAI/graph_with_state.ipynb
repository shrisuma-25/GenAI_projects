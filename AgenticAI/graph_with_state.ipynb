{
 "cells": [
  {
   "cell_type": "code",
   "execution_count": 1,
   "id": "f4e8c6da",
   "metadata": {},
   "outputs": [],
   "source": [
    "from langgraph.graph import StateGraph, START, END"
   ]
  },
  {
   "cell_type": "code",
   "execution_count": 5,
   "id": "1d07d6fb",
   "metadata": {},
   "outputs": [
    {
     "name": "stdout",
     "output_type": "stream",
     "text": [
      "+-----------+  \n",
      "| __start__ |  \n",
      "+-----------+  \n",
      "      *        \n",
      "      *        \n",
      "      *        \n",
      "    +---+      \n",
      "    | A |      \n",
      "    +---+      \n",
      "      *        \n",
      "      *        \n",
      "      *        \n",
      "    +---+      \n",
      "    | B |      \n",
      "    +---+      \n",
      "      *        \n",
      "      *        \n",
      "      *        \n",
      " +---------+   \n",
      " | __end__ |   \n",
      " +---------+   \n",
      "Graph saved as graph_with_state.png\n",
      "A ran\n",
      "Node A is 10 years old\n",
      "B ran\n",
      "Node B is 15 years old\n",
      "{'name': 'Node B', 'age': 15}\n"
     ]
    }
   ],
   "source": [
    "from typing import TypedDict, Optional\n",
    "from langgraph.graph import StateGraph, START, END\n",
    "\n",
    "class MyState(TypedDict):\n",
    "    name: Optional[str]\n",
    "    age: Optional[str]\n",
    "\n",
    "\n",
    "def node_a(state: MyState) -> MyState:\n",
    "    print(\"A ran\")\n",
    "    state[\"name\"] = \"Node A\"\n",
    "    state[\"age\"] = 10\n",
    "    print(f\"{state[\"name\"]} is {state[\"age\"]} years old\")\n",
    "    return state\n",
    "\n",
    "\n",
    "def node_b(state: MyState) -> MyState:\n",
    "    print(\"B ran\")\n",
    "    state[\"name\"] = \"Node B\"\n",
    "    state[\"age\"] = (state[\"age\"] or 0) + 5\n",
    "    print(f\"{state[\"name\"]} is {state[\"age\"]} years old\")\n",
    "    return state\n",
    "\n",
    "builder = StateGraph(MyState)\n",
    "builder.add_node(\"A\", node_a)\n",
    "builder.add_node(\"B\", node_b)\n",
    "\n",
    "builder.add_edge(START, \"A\")\n",
    "builder.add_edge(\"A\", \"B\")\n",
    "builder.add_edge(\"B\", END)\n",
    "\n",
    "graph = builder.compile()\n",
    "\n",
    "\n",
    "print(graph.get_graph().draw_ascii())\n",
    "graph.get_graph().draw_png(\"images/graph_with_state.png\")\n",
    "print(\"Graph saved as graph_with_state.png\")\n",
    "\n",
    "result = graph.invoke({})\n",
    "print(result)\n"
   ]
  }
 ],
 "metadata": {
  "kernelspec": {
   "display_name": ".venv",
   "language": "python",
   "name": "python3"
  },
  "language_info": {
   "codemirror_mode": {
    "name": "ipython",
    "version": 3
   },
   "file_extension": ".py",
   "mimetype": "text/x-python",
   "name": "python",
   "nbconvert_exporter": "python",
   "pygments_lexer": "ipython3",
   "version": "3.13.5"
  }
 },
 "nbformat": 4,
 "nbformat_minor": 5
}
