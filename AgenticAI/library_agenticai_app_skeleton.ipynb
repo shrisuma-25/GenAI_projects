{
 "cells": [
  {
   "cell_type": "code",
   "execution_count": 1,
   "id": "433375c0",
   "metadata": {},
   "outputs": [],
   "source": [
    "# 1 --- Importing Libraries ----\n",
    "from typing import TypedDict, Optional\n",
    "from langgraph.graph import StateGraph, START, END"
   ]
  },
  {
   "cell_type": "code",
   "execution_count": 3,
   "id": "080855cb",
   "metadata": {},
   "outputs": [],
   "source": [
    "# 2  --- Shared State ----\n",
    "class LibraryState(TypedDict):\n",
    "    question: Optional[str]\n",
    "    faq_answer: Optional[str]\n",
    "    checout_info: Optional[str]\n",
    "    final_answer: Optional[str]\n",
    "\n",
    "#4\n",
    "def ClassifierAgent(state: LibraryState):\n",
    "    print(\"ClassifierAgent ran\")\n",
    "    print(f\"state: {state}\")\n",
    "    return {}\n",
    "\n",
    "def FAQAgent(state: LibraryState):\n",
    "    print(\"FAQAgent ran\")\n",
    "    print(f\"FAQAgent state: {state}\")\n",
    "    return {}\n",
    "\n",
    "def CheckoutAgent(state: LibraryState):\n",
    "    print(\"CheckoutAgent ran\")\n",
    "    print(f\"CheckoutAgent state: {state}\")\n",
    "    return {}\n",
    "\n",
    "def ResponseAgent(state: LibraryState):\n",
    "    print(\"ResponseAgent ran\")\n",
    "    return{\"final_answer\": \"RESPONSE AGENT FINAL ANSWER\"}\n",
    "\n",
    "# 3 --- Build the graph ----\n",
    "builder = StateGraph(LibraryState)\n",
    "builder.add_node(\"ClassifierAgent\", ClassifierAgent)\n",
    "builder.add_node(\"FAQAgent\", FAQAgent)\n",
    "builder.add_node(\"CheckoutAgent\", CheckoutAgent)\n",
    "builder.add_node(\"ResponseAgent\", ResponseAgent)\n",
    "\n",
    "builder.add_edge(START, \"ClassifierAgent\")\n",
    "builder.add_edge(\"ClassifierAgent\", \"FAQAgent\")\n",
    "builder.add_edge(\"ClassifierAgent\", \"CheckoutAgent\")\n",
    "builder.add_edge(\"CheckoutAgent\", \"ResponseAgent\")\n",
    "builder.add_edge(\"FAQAgent\", \"ResponseAgent\")\n",
    "builder.add_edge(\"ResponseAgent\", END)\n",
    "\n",
    "graph = builder.compile()  "
   ]
  },
  {
   "cell_type": "code",
   "execution_count": 4,
   "id": "22db41f7",
   "metadata": {},
   "outputs": [
    {
     "name": "stdout",
     "output_type": "stream",
     "text": [
      "               +-----------+              \n",
      "               | __start__ |              \n",
      "               +-----------+              \n",
      "                     *                    \n",
      "                     *                    \n",
      "                     *                    \n",
      "            +-----------------+           \n",
      "            | ClassifierAgent |           \n",
      "            +-----------------+           \n",
      "              ***          **             \n",
      "             *               **           \n",
      "           **                  **         \n",
      "+---------------+           +----------+  \n",
      "| CheckoutAgent |           | FAQAgent |  \n",
      "+---------------+           +----------+  \n",
      "              ***          **             \n",
      "                 *       **               \n",
      "                  **   **                 \n",
      "             +---------------+            \n",
      "             | ResponseAgent |            \n",
      "             +---------------+            \n",
      "                     *                    \n",
      "                     *                    \n",
      "                     *                    \n",
      "                +---------+               \n",
      "                | __end__ |               \n",
      "                +---------+               \n",
      "Graph saved as agentic_ai_library.png\n"
     ]
    }
   ],
   "source": [
    "#5 --- Visualize and run the graph ----\n",
    "print(graph.get_graph().draw_ascii())\n",
    "graph.get_graph().draw_png(\"images/agentic_ai_library.jpg\")\n",
    "print(\"Graph saved as agentic_ai_library.png\")\n"
   ]
  },
  {
   "cell_type": "markdown",
   "id": "8539916d",
   "metadata": {},
   "source": []
  },
  {
   "cell_type": "markdown",
   "id": "25321b46",
   "metadata": {},
   "source": []
  }
 ],
 "metadata": {
  "kernelspec": {
   "display_name": ".venv",
   "language": "python",
   "name": "python3"
  },
  "language_info": {
   "codemirror_mode": {
    "name": "ipython",
    "version": 3
   },
   "file_extension": ".py",
   "mimetype": "text/x-python",
   "name": "python",
   "nbconvert_exporter": "python",
   "pygments_lexer": "ipython3",
   "version": "3.13.5"
  }
 },
 "nbformat": 4,
 "nbformat_minor": 5
}
